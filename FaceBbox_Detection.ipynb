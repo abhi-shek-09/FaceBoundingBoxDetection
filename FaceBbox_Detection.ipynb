{
  "nbformat": 4,
  "nbformat_minor": 0,
  "metadata": {
    "colab": {
      "provenance": []
    },
    "kernelspec": {
      "name": "python3",
      "display_name": "Python 3"
    },
    "language_info": {
      "name": "python"
    }
  },
  "cells": [
    {
      "cell_type": "code",
      "source": [
        "import cv2\n",
        "import numpy as np"
      ],
      "metadata": {
        "id": "VjeIfIW9il1L"
      },
      "execution_count": 1,
      "outputs": []
    },
    {
      "cell_type": "code",
      "source": [
        "face_classifier = cv2.CascadeClassifier('/content/drive/MyDrive/Internship_Assignment/face.xml')\n",
        "eye_classifier = cv2.CascadeClassifier('/content/drive/MyDrive/Internship_Assignment/eye.xml')\n",
        "mouth_classifier = cv2.CascadeClassifier('/content/drive/MyDrive/Internship_Assignment/mouth.xml')"
      ],
      "metadata": {
        "id": "rEATLGdgi2XK"
      },
      "execution_count": 2,
      "outputs": []
    },
    {
      "cell_type": "code",
      "source": [
        "image = cv2.imread('/content/drive/MyDrive/Internship_Assignment/00004.png')"
      ],
      "metadata": {
        "id": "Ew2g0oTQjJ8n"
      },
      "execution_count": 88,
      "outputs": []
    },
    {
      "cell_type": "code",
      "source": [
        "gray_scale = cv2.cvtColor(image, cv2.COLOR_BGR2GRAY)"
      ],
      "metadata": {
        "id": "cMzYdOqAjRyd"
      },
      "execution_count": 89,
      "outputs": []
    },
    {
      "cell_type": "code",
      "source": [
        "faces = face_classifier.detectMultiScale(gray_scale, 1.3, 5)"
      ],
      "metadata": {
        "id": "SLxVa4jJjc1d"
      },
      "execution_count": 90,
      "outputs": []
    },
    {
      "cell_type": "code",
      "source": [
        "type(faces)"
      ],
      "metadata": {
        "colab": {
          "base_uri": "https://localhost:8080/"
        },
        "id": "vciP0e-ZjjJt",
        "outputId": "4f8a6442-ce62-44dc-9b80-d5938581b2fd"
      },
      "execution_count": 91,
      "outputs": [
        {
          "output_type": "execute_result",
          "data": {
            "text/plain": [
              "numpy.ndarray"
            ]
          },
          "metadata": {},
          "execution_count": 91
        }
      ]
    },
    {
      "cell_type": "code",
      "source": [
        "faces"
      ],
      "metadata": {
        "colab": {
          "base_uri": "https://localhost:8080/"
        },
        "id": "QTwI0ZX6mnU1",
        "outputId": "0cdb640d-dbaf-472e-82ce-a9be8591aaa5"
      },
      "execution_count": 92,
      "outputs": [
        {
          "output_type": "execute_result",
          "data": {
            "text/plain": [
              "array([[ 79, 100, 360, 360]], dtype=int32)"
            ]
          },
          "metadata": {},
          "execution_count": 92
        }
      ]
    },
    {
      "cell_type": "code",
      "source": [
        "for (x, y, w, h) in faces:\n",
        "    gray_image = gray_scale[y:y+h, x:x+w]\n",
        "    color_image = image[y:y+h, x:x+w]\n",
        "    eyes = eye_classifier.detectMultiScale(gray_image)\n",
        "    for (ex, ey, ew, eh) in eyes:\n",
        "        cv2.rectangle(color_image, (ex, ey), (ex+ew, ey+eh), (2, 255, 8), 2)\n",
        "\n",
        "    cv2.imwrite('/content/image4.jpg', color_image)\n",
        "    cv2.waitKey(0)\n",
        "\n",
        "cv2.destroyAllWindows()\n"
      ],
      "metadata": {
        "id": "34S3RBsnj6_r"
      },
      "execution_count": 93,
      "outputs": []
    },
    {
      "cell_type": "code",
      "source": [],
      "metadata": {
        "id": "RWF_OlnulERy"
      },
      "execution_count": null,
      "outputs": []
    }
  ]
}